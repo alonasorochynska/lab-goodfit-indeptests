{
 "cells": [
  {
   "cell_type": "markdown",
   "metadata": {},
   "source": [
    "## Question 1\n",
    "The following table indicates the number of 6-point scores in an American rugby match in the 1979 season.\n",
    "\n",
    "![](table1.png)\n",
    "\n",
    "Based on these results, we create a Poisson distribution with the sample mean parameter  = 2.435. Is there any reason to believe that at a .05 level the number of scores is a Poisson variable?"
   ]
  },
  {
   "cell_type": "code",
   "execution_count": 1,
   "metadata": {},
   "outputs": [],
   "source": [
    "from scipy.stats import poisson\n",
    "import matplotlib.pyplot as plt\n",
    "import numpy as np\n",
    "from scipy.stats import chisquare\n",
    "from scipy.stats import norm\n",
    "from scipy.stats import kstest"
   ]
  },
  {
   "cell_type": "code",
   "execution_count": 5,
   "metadata": {},
   "outputs": [
    {
     "name": "stdout",
     "output_type": "stream",
     "text": [
      "x =  [0. 1. 2. 3. 4. 5. 6. 7.]\n",
      "y =  [ 39.24379068  95.5586303  116.34263239  94.43143662  57.48513704\n",
      "  27.99526174  11.36141039   3.95214776]\n"
     ]
    },
    {
     "data": {
      "image/png": "[encoded data removed]",
      "text/plain": [
       "<Figure size 432x288 with 1 Axes>"
      ]
     },
     "metadata": {
      "needs_background": "light"
     },
     "output_type": "display_data"
    }
   ],
   "source": [
    "# your answer here\n",
    "mu = 2.435\n",
    "\n",
    "mean, var, skew, kurt = poisson.stats(mu, moments='mvsk')\n",
    "\n",
    "scores = [0, 1, 2, 3, 4, 5, 6, 7]\n",
    "number_times = [35, 99, 104, 110, 62, 25, 10, 3]\n",
    "\n",
    "# poisson distribution\n",
    "x = np.arange(poisson.ppf(0.01, mu), poisson.ppf(0.999, mu))\n",
    "y = poisson.pmf(x, mu) * sum(number_times)\n",
    "print('x = ', x)\n",
    "print('y = ', y)\n",
    "\n",
    "plt.plot(scores, number_times, label = 'frequency of scores')\n",
    "plt.plot(x, y, 'bo', ms = 8, label = 'poisson model')\n",
    "plt.legend()\n",
    "plt.show()"
   ]
  },
  {
   "cell_type": "code",
   "execution_count": 6,
   "metadata": {},
   "outputs": [
    {
     "data": {
      "text/plain": [
       "Power_divergenceResult(statistic=5.526588649191276, pvalue=0.5959787428784398)"
      ]
     },
     "execution_count": 6,
     "metadata": {},
     "output_type": "execute_result"
    }
   ],
   "source": [
    "# Chi-square test was used because of the distribution was discrete\n",
    "# H0: follows a Poisson distribution\n",
    "# H1: does not follow a Poisson distribution\n",
    "\n",
    "observed_values = number_times\n",
    "expected_values = y \n",
    "\n",
    "chisquare(observed_values, f_exp = expected_values)\n",
    "\n",
    "# The first value is the chi-square value itself and the second value is the p-value\n",
    "\n"
   ]
  },
  {
   "cell_type": "code",
   "execution_count": 7,
   "metadata": {},
   "outputs": [
    {
     "name": "stdout",
     "output_type": "stream",
     "text": [
      "0.5959787428784398\n",
      "don't reject the null hypothesis\n"
     ]
    }
   ],
   "source": [
    "pvalue = chisquare(observed_values, f_exp = expected_values)[1]\n",
    "print(pvalue)\n",
    "\n",
    "if pvalue <= 0.05:\n",
    "    print(\"reject the null hypothesis\")\n",
    "else:\n",
    "    print(\"don't reject the null hypothesis\")"
   ]
  },
  {
   "cell_type": "code",
   "execution_count": 11,
   "metadata": {},
   "outputs": [
    {
     "data": {
      "text/plain": [
       "\"\\nNull hypothesis: the number of scores follows a Poisson distribution.\\nAs seen above, we can't reject the null hypothesis and therefore the \\nnumber of scores is a poisson variable.\\n\\n1 - observed values\\n2 - model\\n3 - stats.chisquare(observed_values, exp = model)\\n\\np < 0.05 We can reject H0\\np > 0.05 Don't reject\\n\""
      ]
     },
     "execution_count": 11,
     "metadata": {},
     "output_type": "execute_result"
    }
   ],
   "source": [
    "'''\n",
    "Null hypothesis: the number of scores follows a Poisson distribution.\n",
    "As seen above, we can't reject the null hypothesis and therefore the \n",
    "number of scores is a poisson variable.\n",
    "\n",
    "1 - observed values\n",
    "2 - model\n",
    "3 - stats.chisquare(observed_values, exp = model)\n",
    "\n",
    "p < 0.05 We can reject H0\n",
    "p > 0.05 Don't reject\n",
    "'''"
   ]
  },
  {
   "cell_type": "markdown",
   "metadata": {},
   "source": [
    "## Question 2\n",
    "The following are the ordered values of a random sample of SAT scores (university entrance exam) for several students: 852, 875, 910, 933, 957, 963, 981, 998, 1010, 1015, 1018, 1023, 1035, 1048, 1063. In previous years, the scores were presented by N (985,50). Based on the sample, is there any reason to believe that there has been a change in the distribution of scores this year? Use the level alpha = 0.05. "
   ]
  },
  {
   "cell_type": "code",
   "execution_count": 12,
   "metadata": {},
   "outputs": [],
   "source": [
    "#your answer here\n",
    "# H0: there has been a change in the distribution\n",
    "# H1: there has not been a change in the distribuition\n",
    "\n",
    "SAT_scores = [852, 875, 910, 933, 957, 963, 981, 998, 1010, 1015, 1018, 1023, 1035, 1048, 1063]\n",
    "total = sum(SAT_scores)\n",
    "n = len(SAT_scores)\n",
    "\n",
    "# N(985,50) - mean and std for the expected values\n",
    "# alpha = 0.05"
   ]
  },
  {
   "cell_type": "code",
   "execution_count": 13,
   "metadata": {},
   "outputs": [
    {
     "name": "stdout",
     "output_type": "stream",
     "text": [
      "0.847406396427736\n",
      "don't reject the null hypothesis\n"
     ]
    }
   ],
   "source": [
    "# create the model\n",
    "n = norm(loc = 985, scale = 50)\n",
    "\n",
    "# as it is a continuous distribution KS test was used\n",
    "# H0: there has been a change in the distribution\n",
    "# H1: there has not been a change in the distribuition\n",
    "pvalue = kstest(SAT_scores, n.cdf)[1]\n",
    "print(pvalue)\n",
    "\n",
    "if pvalue <= 0.05:\n",
    "    print(\"reject the null hypothesis\")\n",
    "else:\n",
    "    print(\"don't reject the null hypothesis\")\n",
    "    \n",
    "# ks works on the cumulative distribution"
   ]
  },
  {
   "cell_type": "code",
   "execution_count": null,
   "metadata": {},
   "outputs": [],
   "source": [
    "'''\n",
    "Null hypothesis: the number has been a change in the distribution.\n",
    "As seen above we can't reject the null hypothesis and therefore there has been \n",
    "a change in the distribution.\n",
    "'''"
   ]
  },
  {
   "cell_type": "markdown",
   "metadata": {},
   "source": [
    "## Question 3\n",
    "Let's analyze a discrete distribution. To analyze the number of defective items in a factory in the city of Medellín, we took a random sample of n = 60 articles and observed the number of defectives in the following table:\n",
    "\n",
    "![](table4.png)\n",
    "\n",
    "A poissón distribution was proposed since it is defined for x = 0,1,2,3, .... using the following model:\n",
    "\n",
    "![](image1.png)\n",
    "\n",
    "Does the distribution of defective items follow this distribution?"
   ]
  },
  {
   "cell_type": "code",
   "execution_count": 15,
   "metadata": {},
   "outputs": [
    {
     "data": {
      "text/plain": [
       "\"\\n# because chi squared tests don't consider frequencies lower than 5, we don't consider the 4\\ndef_items = [0,1,3]\\nobserved_freq = np.array([32,15,9])\\n\\n# calculate mean\\nmu = observed_freq.mean()\\nprint(mu)\\n\\n# poisson distribution\\nx = np.arange(poisson.ppf(0.01, mu), poisson.ppf(0.99, mu))\\ny = poisson.pmf(x,mu) * sum(observed_freq)\\n\""
      ]
     },
     "execution_count": 15,
     "metadata": {},
     "output_type": "execute_result"
    }
   ],
   "source": [
    "# your code here\n",
    "scores = [0,1,2]#3,4]\n",
    "times = [32,15,9]#,4]\n",
    "n_scores = len(scores)\n",
    "total_times = sum(times)\n",
    "mu = sum(times[i] * i for i in scores) / total_times\n",
    "alpha = 0.05\n",
    "\n",
    "#theoretical probabilities\n",
    "probs = [poisson.pmf(i,mu) for i in range(n_scores - 1)]\n",
    "probs.append(1 - sum(probs))\n",
    "\n",
    "#expected frequencies\n",
    "f_exp = [p * total_times for p in probs]\n",
    "\n",
    "\n",
    "'''\n",
    "# because chi squared tests don't consider frequencies lower than 5, we don't consider the 4\n",
    "def_items = [0,1,3]\n",
    "observed_freq = np.array([32,15,9])\n",
    "\n",
    "# calculate mean\n",
    "mu = observed_freq.mean()\n",
    "print(mu)\n",
    "\n",
    "# poisson distribution\n",
    "x = np.arange(poisson.ppf(0.01, mu), poisson.ppf(0.99, mu))\n",
    "y = poisson.pmf(x,mu) * sum(observed_freq)\n",
    "'''"
   ]
  },
  {
   "cell_type": "code",
   "execution_count": 16,
   "metadata": {},
   "outputs": [
    {
     "data": {
      "text/plain": [
       "Power_divergenceResult(statistic=1.4726967552012993, pvalue=0.47885934025851884)"
      ]
     },
     "execution_count": 16,
     "metadata": {},
     "output_type": "execute_result"
    }
   ],
   "source": [
    "chisquare(times, f_exp=f_exp)"
   ]
  },
  {
   "cell_type": "code",
   "execution_count": 18,
   "metadata": {},
   "outputs": [
    {
     "data": {
      "text/plain": [
       "'# as it is a discrete distribution Chi-square test was used\\n# H0: follows a poisson distribution\\n# H1: does not follow a Poisson distribution\\n\\nobserved_values = observed_freq\\nexpected_values = y\\n\\nchisquare(observed_values, f_exp = expected_values)\\n#print(observed_values)\\n#print(expected_values)\\n\\npvalue = chisquare(observed_values, f_exp = expected_values)[1]\\nprint(pvalue)\\n\\nif pvalue <= 0.05:\\n    print(\"reject the null hypothesis\")\\nelse:\\n    print(\"don\\'t reject the null hypothesis\")\\n\\nNull hypothesis: the number of defective items follows a Poisson distribution.\\nAs seen above, we can reject the null hypothesis and therefore the \\nnumber of defective items doesn\\'t follow a poisson distribution.\\n'"
      ]
     },
     "execution_count": 18,
     "metadata": {},
     "output_type": "execute_result"
    }
   ],
   "source": [
    "'''# as it is a discrete distribution Chi-square test was used\n",
    "# H0: follows a poisson distribution\n",
    "# H1: does not follow a Poisson distribution\n",
    "\n",
    "observed_values = observed_freq\n",
    "expected_values = y\n",
    "\n",
    "chisquare(observed_values, f_exp = expected_values)\n",
    "#print(observed_values)\n",
    "#print(expected_values)\n",
    "\n",
    "pvalue = chisquare(observed_values, f_exp = expected_values)[1]\n",
    "print(pvalue)\n",
    "\n",
    "if pvalue <= 0.05:\n",
    "    print(\"reject the null hypothesis\")\n",
    "else:\n",
    "    print(\"don't reject the null hypothesis\")\n",
    "\n",
    "Null hypothesis: the number of defective items follows a Poisson distribution.\n",
    "As seen above, we can reject the null hypothesis and therefore the \n",
    "number of defective items doesn't follow a poisson distribution.\n",
    "'''"
   ]
  },
  {
   "cell_type": "markdown",
   "metadata": {},
   "source": [
    "## Question 4\n",
    "A quality control engineer takes a sample of 10 tires that come out of an assembly line, and would like to verify on the basis of the data that follows, if the number of tires with defects observed over 200 days, if it is true that 5% of all tires have defects (that is, if the sample comes from a binomial population with n = 10 and p = 0.05). \n",
    "\n",
    "![](table6.png)\n"
   ]
  },
  {
   "cell_type": "code",
   "execution_count": 19,
   "metadata": {},
   "outputs": [],
   "source": [
    "# your answer here\n",
    "# H0: the sample comes from a binomial population with n = 10 and p = 0.05\n",
    "# H1: does not follow a binomial distribution with those characteristics\n",
    "\n",
    "from scipy.stats import binom\n",
    "\n",
    "# generate the observed data\n",
    "samples = [138, 53, 9]\n",
    "defective = list(range(len(samples)))\n",
    "total_samples = sum(samples)\n",
    "n = 10\n",
    "p = 0.05\n",
    "\n",
    "#theoretical probabilities\n",
    "probs = [binom.pmf(k,n,p) for k in range(len(defective) - 1)]\n",
    "probs.append(1 - sum(probs))\n",
    "\n",
    "#expected frequencies\n",
    "f_exp_4 = [p * total_samples for p in probs]"
   ]
  },
  {
   "cell_type": "code",
   "execution_count": 20,
   "metadata": {},
   "outputs": [
    {
     "data": {
      "text/plain": [
       "Power_divergenceResult(statistic=8.30617951954273, pvalue=0.015715783395951474)"
      ]
     },
     "execution_count": 20,
     "metadata": {},
     "output_type": "execute_result"
    }
   ],
   "source": [
    "chisquare(samples, f_exp=f_exp_4)"
   ]
  },
  {
   "cell_type": "code",
   "execution_count": 21,
   "metadata": {},
   "outputs": [
    {
     "name": "stdout",
     "output_type": "stream",
     "text": [
      "reject the null hypothesis\n"
     ]
    }
   ],
   "source": [
    "pvalue = chisquare(samples, f_exp=f_exp_4)[1]\n",
    "\n",
    "if pvalue <= 0.05:\n",
    "    print(\"reject the null hypothesis\")\n",
    "else:\n",
    "    print(\"don't reject the null hypothesis\")"
   ]
  },
  {
   "cell_type": "markdown",
   "metadata": {},
   "source": [
    "## Question 5\n",
    "A researcher gathers information about the patterns of physical activity (AF) of children in the fifth grade of primary school of a public school. He defines three categories of physical activity (1 = Low, 2 = Medium, 3 = High). He also inquires about the regular consumption of sugary drinks at school, and defines two categories (1 = consumed, 0 = not consumed). We would like to evaluate if there is an association between patterns of physical activity and the consumption of sugary drinks for the children of this school, at a level of 5% significance. The results are in the following table: \n",
    "\n",
    "![](table5.png)"
   ]
  },
  {
   "cell_type": "code",
   "execution_count": null,
   "metadata": {},
   "outputs": [],
   "source": [
    "#your answer here\n",
    "'''\n",
    "event A = sugary drinks\n",
    "event B = physical activity\n",
    "\n",
    "the definition of independence is P(A&&B)(union) = P(A) * P(B)\n",
    "\n",
    "P(A&&B) = [32,12,14,22,6,9]\n",
    "P(B) = [44,36,15]\n",
    "P(A) = [52,43]\n",
    "\n",
    "we need to do the chi-test between the curves of each point\n",
    "model P(A) * P(B) = [[(52*44)/95,(43*44)/95],[(52*36)/95,(43*36)/95],[...]]\n",
    "\n",
    "'''"
   ]
  },
  {
   "cell_type": "code",
   "execution_count": 23,
   "metadata": {},
   "outputs": [
    {
     "data": {
      "text/html": [
       "<div>\n",
       "<style scoped>\n",
       "    .dataframe tbody tr th:only-of-type {\n",
       "        vertical-align: middle;\n",
       "    }\n",
       "\n",
       "    .dataframe tbody tr th {\n",
       "        vertical-align: top;\n",
       "    }\n",
       "\n",
       "    .dataframe thead th {\n",
       "        text-align: right;\n",
       "    }\n",
       "</style>\n",
       "<table border=\"1\" class=\"dataframe\">\n",
       "  <thead>\n",
       "    <tr style=\"text-align: right;\">\n",
       "      <th></th>\n",
       "      <th>no</th>\n",
       "      <th>yes</th>\n",
       "    </tr>\n",
       "  </thead>\n",
       "  <tbody>\n",
       "    <tr>\n",
       "      <th>baja</th>\n",
       "      <td>32</td>\n",
       "      <td>12</td>\n",
       "    </tr>\n",
       "    <tr>\n",
       "      <th>media</th>\n",
       "      <td>14</td>\n",
       "      <td>22</td>\n",
       "    </tr>\n",
       "    <tr>\n",
       "      <th>alta</th>\n",
       "      <td>6</td>\n",
       "      <td>9</td>\n",
       "    </tr>\n",
       "  </tbody>\n",
       "</table>\n",
       "</div>"
      ],
      "text/plain": [
       "       no  yes\n",
       "baja   32   12\n",
       "media  14   22\n",
       "alta    6    9"
      ]
     },
     "execution_count": 23,
     "metadata": {},
     "output_type": "execute_result"
    }
   ],
   "source": [
    "import pandas as pd\n",
    "baja = [32,12]\n",
    "media = [14,22]\n",
    "alta = [6,9]\n",
    "\n",
    "ds = pd.DataFrame([baja,media,alta], columns = {\"yes\",\"no\"}, index = {\"baja\",\"media\",\"alta\"})\n",
    "ds"
   ]
  },
  {
   "cell_type": "code",
   "execution_count": 24,
   "metadata": {},
   "outputs": [
    {
     "data": {
      "image/png": "[encoded data removed]",
      "text/plain": [
       "<Figure size 432x288 with 1 Axes>"
      ]
     },
     "metadata": {
      "needs_background": "light"
     },
     "output_type": "display_data"
    }
   ],
   "source": [
    "plt.plot(ds.yes, label='yes')\n",
    "plt.plot(ds.no, label='no')\n",
    "plt.ylabel('sugary drinks')\n",
    "plt.xlabel('physical activity ')\n",
    "plt.legend()\n",
    "plt.show()"
   ]
  },
  {
   "cell_type": "code",
   "execution_count": null,
   "metadata": {},
   "outputs": [],
   "source": [
    "'''\n",
    "From inspection of the plot we can tell there is a relation between\n",
    "physical activity and drinking sugary drinks.\n",
    "'''"
   ]
  }
 ],
 "metadata": {
  "kernelspec": {
   "display_name": "Python 3",
   "language": "python",
   "name": "python3"
  },
  "language_info": {
   "codemirror_mode": {
    "name": "ipython",
    "version": 3
   },
   "file_extension": ".py",
   "mimetype": "text/x-python",
   "name": "python",
   "nbconvert_exporter": "python",
   "pygments_lexer": "ipython3",
   "version": "3.7.3"
  }
 },
 "nbformat": 4,
 "nbformat_minor": 2
}
